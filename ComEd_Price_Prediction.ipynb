{
 "cells": [
  {
   "cell_type": "code",
   "execution_count": 3,
   "metadata": {
    "collapsed": false
   },
   "outputs": [],
   "source": [
    "# from urllib2.request import urlopen\n",
    "import requests\n",
    "import json\n",
    "import datetime\n",
    "import numpy as np\n",
    "import pandas as pd\n",
    "%matplotlib inline\n",
    "import matplotlib\n",
    "matplotlib.style.use('ggplot')\n",
    "import matplotlib.pyplot as plt\n",
    "import dateutil\n",
    "import pytz\n",
    "from sklearn import linear_model, cross_validation\n",
    "from sklearn.metrics import mean_squared_error, r2_score"
   ]
  },
  {
   "cell_type": "code",
   "execution_count": 4,
   "metadata": {
    "collapsed": false
   },
   "outputs": [],
   "source": [
    "Chicago=pytz.timezone(\"America/Chicago\")\n",
    "Chicago\n",
    "N_priordays=5"
   ]
  },
  {
   "cell_type": "code",
   "execution_count": 5,
   "metadata": {
    "collapsed": true
   },
   "outputs": [],
   "source": [
    "def get_prices(startDate,endDate=None):\n",
    "    '''\n",
    "    gets data from ComEd\n",
    "    startDate and endDate should be in YYYYMMDDhhmm\n",
    "    output is a list of {\"1234\",5.5}, where \"1234\" is the UTC in seconds and 5.5 is the price\n",
    "    '''\n",
    "    endDate = startDate if endDate is None else endDate\n",
    "    startDate=Chicago.normalize(Chicago.localize(dateutil.parser.parse(startDate)))\n",
    "    endDate=Chicago.normalize(Chicago.localize(dateutil.parser.parse(endDate)))\n",
    "    format=\"%Y%m%d%H%M\"\n",
    "    startDate=startDate.strftime(format)\n",
    "    endDate=endDate.strftime(format)\n",
    "    URL=\"https://hourlypricing.comed.com/api?type=5minutefeed&datestart=STARTDATE&dateend=ENDDATE&format=json\"\n",
    "    temp=URL.replace(\"STARTDATE\",startDate).replace(\"ENDDATE\",endDate)\n",
    "    print(temp)\n",
    "    r = requests.get(url=temp)\n",
    "    data = r.json()\n",
    "#     print [int(obj.values()[1])/1000 for obj in data]\n",
    "    out={}\n",
    "    for obj in data:\n",
    "        try:\n",
    "            ts=int(obj.values()[1])/1000\n",
    "            dt=Chicago.normalize(Chicago.localize(datetime.datetime.fromtimestamp(ts)))\n",
    "            out[dt]=float(obj.values()[0])\n",
    "        except Exception:\n",
    "            pass\n",
    "#     print out\n",
    "    return out        "
   ]
  },
  {
   "cell_type": "code",
   "execution_count": 6,
   "metadata": {
    "collapsed": false
   },
   "outputs": [
    {
     "name": "stdout",
     "output_type": "stream",
     "text": [
      "https://hourlypricing.comed.com/api?type=5minutefeed&datestart=201711010000&dateend=201711150000&format=json\n",
      "3947 records of data\n"
     ]
    }
   ],
   "source": [
    "startDate=\"20171101\"\n",
    "endDate=\"20171115\"\n",
    "\n",
    "data=get_prices(startDate,endDate)\n",
    "print(str(len(data.keys()))+\" records of data\")"
   ]
  },
  {
   "cell_type": "code",
   "execution_count": 7,
   "metadata": {
    "collapsed": false
   },
   "outputs": [
    {
     "name": "stdout",
     "output_type": "stream",
     "text": [
      "2017-11-08 22:35:00-06:00\n",
      "<type 'float'>\n",
      "<type 'datetime.datetime'>\n",
      "3947\n"
     ]
    }
   ],
   "source": [
    "for k in data:\n",
    "    print(k)\n",
    "    print(type(data[k]))\n",
    "    print(type(k))\n",
    "    break\n",
    "print(len(data))"
   ]
  },
  {
   "cell_type": "code",
   "execution_count": 8,
   "metadata": {
    "collapsed": false
   },
   "outputs": [],
   "source": [
    "def inrange(indatetime):\n",
    "    '''\n",
    "    returns true if datetime is between midnight and 5 AM, and a weekday\n",
    "    '''\n",
    "    hourflag=(datetime.time(23,0,0)<=indatetime.time()) or (indatetime.time()<=datetime.time(5,0,0))\n",
    "    dayflag=0<=indatetime.weekday()<=4\n",
    "    return hourflag and dayflag"
   ]
  },
  {
   "cell_type": "code",
   "execution_count": 9,
   "metadata": {
    "collapsed": false
   },
   "outputs": [
    {
     "name": "stdout",
     "output_type": "stream",
     "text": [
      "3947\n",
      "2017-10-31 23:55:00-05:00\n"
     ]
    }
   ],
   "source": [
    "# dates=sorted([dt for dt in data.keys() if inrange(dt)])\n",
    "dates=sorted([dt for dt in data.keys()])\n",
    "print(len(dates))\n",
    "dates[0]\n",
    "print(dates[0] - datetime.timedelta(minutes=5))\n",
    "# data[2017-11-01 00:00:00-05:00]"
   ]
  },
  {
   "cell_type": "code",
   "execution_count": 11,
   "metadata": {
    "collapsed": false
   },
   "outputs": [
    {
     "name": "stdout",
     "output_type": "stream",
     "text": [
      "1710\n"
     ]
    }
   ],
   "source": [
    "y=[]\n",
    "A=[]\n",
    "indices=[]\n",
    "count=0\n",
    "historical_N=range(1,N_priordays+1)\n",
    "final = {'date':[], 'price':[], 'prior':[], 'historical_average_price':[]}\n",
    "for dt in range(len(dates)):\n",
    "    try:\n",
    "        price=data[dates[dt]]\n",
    "        final['date'].append(dates[dt])\n",
    "        final['price'].append(price)\n",
    "        prior=dates[dt]-datetime.timedelta(minutes=5)\n",
    "#         print(prior)\n",
    "        prior_price=data[prior]\n",
    "        final['prior'].append(prior_price)\n",
    "#         print(prior_price)\n",
    "        historical=[dates[dt]-datetime.timedelta(days=n) for n in historical_N]\n",
    "#         print(historical)\n",
    "        historical_price=[data[h] for h in historical]\n",
    "#         print(historical_price)\n",
    "        historical_average=np.average(historical_price)\n",
    "        final['historical_average_price'].append(historical_average)\n",
    "#         print(historical_average)\n",
    "        y.append([price])\n",
    "#         print(y)\n",
    "        A.append([prior_price,historical_average,1])\n",
    "#         print(A)\n",
    "        indices.append(dates[dt])\n",
    "    except Exception:\n",
    "        count+=1\n",
    "#         print(\"in exception with dt=\"+str(dt))\n",
    "        pass\n",
    "print(count)\n",
    "A=np.matrix(A)\n",
    "y=np.matrix(y)"
   ]
  },
  {
   "cell_type": "code",
   "execution_count": 12,
   "metadata": {
    "collapsed": false
   },
   "outputs": [
    {
     "data": {
      "text/plain": [
       "2237"
      ]
     },
     "execution_count": 12,
     "metadata": {},
     "output_type": "execute_result"
    }
   ],
   "source": [
    "len(final['historical_average_price'])"
   ]
  },
  {
   "cell_type": "code",
   "execution_count": 13,
   "metadata": {
    "collapsed": false
   },
   "outputs": [],
   "source": [
    "df = pd.DataFrame.from_dict(final, orient='index').T.dropna()"
   ]
  },
  {
   "cell_type": "code",
   "execution_count": 14,
   "metadata": {
    "collapsed": false
   },
   "outputs": [
    {
     "data": {
      "text/html": [
       "<div>\n",
       "<table border=\"1\" class=\"dataframe\">\n",
       "  <thead>\n",
       "    <tr style=\"text-align: right;\">\n",
       "      <th></th>\n",
       "      <th>prior</th>\n",
       "      <th>price</th>\n",
       "      <th>historical_average_price</th>\n",
       "    </tr>\n",
       "    <tr>\n",
       "      <th>date</th>\n",
       "      <th></th>\n",
       "      <th></th>\n",
       "      <th></th>\n",
       "    </tr>\n",
       "  </thead>\n",
       "  <tbody>\n",
       "    <tr>\n",
       "      <th>2017-11-01 00:00:00-05:00</th>\n",
       "      <td>2.4</td>\n",
       "      <td>2.4</td>\n",
       "      <td>1.9</td>\n",
       "    </tr>\n",
       "    <tr>\n",
       "      <th>2017-11-01 00:05:00-05:00</th>\n",
       "      <td>2</td>\n",
       "      <td>2</td>\n",
       "      <td>2.04</td>\n",
       "    </tr>\n",
       "    <tr>\n",
       "      <th>2017-11-01 00:10:00-05:00</th>\n",
       "      <td>2.2</td>\n",
       "      <td>2.2</td>\n",
       "      <td>2</td>\n",
       "    </tr>\n",
       "    <tr>\n",
       "      <th>2017-11-01 00:15:00-05:00</th>\n",
       "      <td>2.1</td>\n",
       "      <td>2.1</td>\n",
       "      <td>1.94</td>\n",
       "    </tr>\n",
       "    <tr>\n",
       "      <th>2017-11-01 00:20:00-05:00</th>\n",
       "      <td>2</td>\n",
       "      <td>2</td>\n",
       "      <td>1.98</td>\n",
       "    </tr>\n",
       "    <tr>\n",
       "      <th>2017-11-01 00:25:00-05:00</th>\n",
       "      <td>2.3</td>\n",
       "      <td>2.3</td>\n",
       "      <td>2.14</td>\n",
       "    </tr>\n",
       "    <tr>\n",
       "      <th>2017-11-01 00:30:00-05:00</th>\n",
       "      <td>2.1</td>\n",
       "      <td>2.1</td>\n",
       "      <td>2.16</td>\n",
       "    </tr>\n",
       "    <tr>\n",
       "      <th>2017-11-01 00:35:00-05:00</th>\n",
       "      <td>2.1</td>\n",
       "      <td>2.1</td>\n",
       "      <td>2.14</td>\n",
       "    </tr>\n",
       "    <tr>\n",
       "      <th>2017-11-01 00:40:00-05:00</th>\n",
       "      <td>2.2</td>\n",
       "      <td>2.2</td>\n",
       "      <td>2.08</td>\n",
       "    </tr>\n",
       "    <tr>\n",
       "      <th>2017-11-01 00:45:00-05:00</th>\n",
       "      <td>2.2</td>\n",
       "      <td>2.2</td>\n",
       "      <td>2.18</td>\n",
       "    </tr>\n",
       "    <tr>\n",
       "      <th>2017-11-01 00:50:00-05:00</th>\n",
       "      <td>2.2</td>\n",
       "      <td>2.2</td>\n",
       "      <td>2.12</td>\n",
       "    </tr>\n",
       "    <tr>\n",
       "      <th>2017-11-01 00:55:00-05:00</th>\n",
       "      <td>2.2</td>\n",
       "      <td>2.2</td>\n",
       "      <td>2.18</td>\n",
       "    </tr>\n",
       "    <tr>\n",
       "      <th>2017-11-01 01:00:00-05:00</th>\n",
       "      <td>2.1</td>\n",
       "      <td>2.1</td>\n",
       "      <td>2.1</td>\n",
       "    </tr>\n",
       "    <tr>\n",
       "      <th>2017-11-01 01:05:00-05:00</th>\n",
       "      <td>2.2</td>\n",
       "      <td>2.2</td>\n",
       "      <td>2.1</td>\n",
       "    </tr>\n",
       "    <tr>\n",
       "      <th>2017-11-01 01:10:00-05:00</th>\n",
       "      <td>2.3</td>\n",
       "      <td>2.3</td>\n",
       "      <td>2.06</td>\n",
       "    </tr>\n",
       "    <tr>\n",
       "      <th>2017-11-01 01:15:00-05:00</th>\n",
       "      <td>2.3</td>\n",
       "      <td>2.3</td>\n",
       "      <td>2.1</td>\n",
       "    </tr>\n",
       "    <tr>\n",
       "      <th>2017-11-01 01:20:00-05:00</th>\n",
       "      <td>2.1</td>\n",
       "      <td>2.1</td>\n",
       "      <td>2.12</td>\n",
       "    </tr>\n",
       "    <tr>\n",
       "      <th>2017-11-01 01:25:00-05:00</th>\n",
       "      <td>2.3</td>\n",
       "      <td>2.3</td>\n",
       "      <td>2</td>\n",
       "    </tr>\n",
       "    <tr>\n",
       "      <th>2017-11-01 01:30:00-05:00</th>\n",
       "      <td>2.2</td>\n",
       "      <td>2.2</td>\n",
       "      <td>2.22</td>\n",
       "    </tr>\n",
       "    <tr>\n",
       "      <th>2017-11-01 01:35:00-05:00</th>\n",
       "      <td>2</td>\n",
       "      <td>2</td>\n",
       "      <td>2.18</td>\n",
       "    </tr>\n",
       "    <tr>\n",
       "      <th>2017-11-01 01:40:00-05:00</th>\n",
       "      <td>2</td>\n",
       "      <td>2</td>\n",
       "      <td>2.18</td>\n",
       "    </tr>\n",
       "    <tr>\n",
       "      <th>2017-11-01 01:45:00-05:00</th>\n",
       "      <td>2</td>\n",
       "      <td>2</td>\n",
       "      <td>2.46</td>\n",
       "    </tr>\n",
       "    <tr>\n",
       "      <th>2017-11-01 01:50:00-05:00</th>\n",
       "      <td>2.2</td>\n",
       "      <td>2.2</td>\n",
       "      <td>1.98</td>\n",
       "    </tr>\n",
       "    <tr>\n",
       "      <th>2017-11-01 01:55:00-05:00</th>\n",
       "      <td>1.9</td>\n",
       "      <td>2.2</td>\n",
       "      <td>2.82</td>\n",
       "    </tr>\n",
       "    <tr>\n",
       "      <th>2017-11-01 03:10:00-05:00</th>\n",
       "      <td>2</td>\n",
       "      <td>1.9</td>\n",
       "      <td>2.5</td>\n",
       "    </tr>\n",
       "    <tr>\n",
       "      <th>2017-11-01 03:15:00-05:00</th>\n",
       "      <td>2</td>\n",
       "      <td>2</td>\n",
       "      <td>3.24</td>\n",
       "    </tr>\n",
       "    <tr>\n",
       "      <th>2017-11-01 03:20:00-05:00</th>\n",
       "      <td>1.9</td>\n",
       "      <td>2</td>\n",
       "      <td>6.3</td>\n",
       "    </tr>\n",
       "    <tr>\n",
       "      <th>2017-11-01 03:25:00-05:00</th>\n",
       "      <td>2</td>\n",
       "      <td>1.9</td>\n",
       "      <td>3.14</td>\n",
       "    </tr>\n",
       "    <tr>\n",
       "      <th>2017-11-01 03:30:00-05:00</th>\n",
       "      <td>2.3</td>\n",
       "      <td>2</td>\n",
       "      <td>3.34</td>\n",
       "    </tr>\n",
       "    <tr>\n",
       "      <th>2017-11-01 03:35:00-05:00</th>\n",
       "      <td>2.3</td>\n",
       "      <td>2.3</td>\n",
       "      <td>2.5</td>\n",
       "    </tr>\n",
       "    <tr>\n",
       "      <th>...</th>\n",
       "      <td>...</td>\n",
       "      <td>...</td>\n",
       "      <td>...</td>\n",
       "    </tr>\n",
       "    <tr>\n",
       "      <th>2017-11-08 21:55:00-06:00</th>\n",
       "      <td>2.4</td>\n",
       "      <td>3</td>\n",
       "      <td>3.16</td>\n",
       "    </tr>\n",
       "    <tr>\n",
       "      <th>2017-11-08 22:00:00-06:00</th>\n",
       "      <td>2.3</td>\n",
       "      <td>3</td>\n",
       "      <td>2.94</td>\n",
       "    </tr>\n",
       "    <tr>\n",
       "      <th>2017-11-08 22:05:00-06:00</th>\n",
       "      <td>2.4</td>\n",
       "      <td>2.4</td>\n",
       "      <td>2.98</td>\n",
       "    </tr>\n",
       "    <tr>\n",
       "      <th>2017-11-08 22:10:00-06:00</th>\n",
       "      <td>2.1</td>\n",
       "      <td>2.7</td>\n",
       "      <td>2.9</td>\n",
       "    </tr>\n",
       "    <tr>\n",
       "      <th>2017-11-08 22:15:00-06:00</th>\n",
       "      <td>2.3</td>\n",
       "      <td>2.1</td>\n",
       "      <td>2.9</td>\n",
       "    </tr>\n",
       "    <tr>\n",
       "      <th>2017-11-08 22:20:00-06:00</th>\n",
       "      <td>2.3</td>\n",
       "      <td>2.1</td>\n",
       "      <td>2.74</td>\n",
       "    </tr>\n",
       "    <tr>\n",
       "      <th>2017-11-08 22:25:00-06:00</th>\n",
       "      <td>2.4</td>\n",
       "      <td>2.9</td>\n",
       "      <td>2.94</td>\n",
       "    </tr>\n",
       "    <tr>\n",
       "      <th>2017-11-08 22:30:00-06:00</th>\n",
       "      <td>2.4</td>\n",
       "      <td>2.5</td>\n",
       "      <td>2.92</td>\n",
       "    </tr>\n",
       "    <tr>\n",
       "      <th>2017-11-08 22:35:00-06:00</th>\n",
       "      <td>2.4</td>\n",
       "      <td>2.4</td>\n",
       "      <td>2.54</td>\n",
       "    </tr>\n",
       "    <tr>\n",
       "      <th>2017-11-08 22:40:00-06:00</th>\n",
       "      <td>2.4</td>\n",
       "      <td>2.4</td>\n",
       "      <td>2.74</td>\n",
       "    </tr>\n",
       "    <tr>\n",
       "      <th>2017-11-08 22:45:00-06:00</th>\n",
       "      <td>2.3</td>\n",
       "      <td>2.4</td>\n",
       "      <td>2.76</td>\n",
       "    </tr>\n",
       "    <tr>\n",
       "      <th>2017-11-08 22:50:00-06:00</th>\n",
       "      <td>2.2</td>\n",
       "      <td>2.4</td>\n",
       "      <td>2.62</td>\n",
       "    </tr>\n",
       "    <tr>\n",
       "      <th>2017-11-08 22:55:00-06:00</th>\n",
       "      <td>2.2</td>\n",
       "      <td>2.4</td>\n",
       "      <td>3.4</td>\n",
       "    </tr>\n",
       "    <tr>\n",
       "      <th>2017-11-08 23:00:00-06:00</th>\n",
       "      <td>2.1</td>\n",
       "      <td>2.4</td>\n",
       "      <td>3.54</td>\n",
       "    </tr>\n",
       "    <tr>\n",
       "      <th>2017-11-08 23:05:00-06:00</th>\n",
       "      <td>2.1</td>\n",
       "      <td>2.6</td>\n",
       "      <td>2.52</td>\n",
       "    </tr>\n",
       "    <tr>\n",
       "      <th>2017-11-08 23:10:00-06:00</th>\n",
       "      <td>2.1</td>\n",
       "      <td>2.4</td>\n",
       "      <td>2.58</td>\n",
       "    </tr>\n",
       "    <tr>\n",
       "      <th>2017-11-08 23:15:00-06:00</th>\n",
       "      <td>2.2</td>\n",
       "      <td>2.4</td>\n",
       "      <td>2.52</td>\n",
       "    </tr>\n",
       "    <tr>\n",
       "      <th>2017-11-08 23:20:00-06:00</th>\n",
       "      <td>2.2</td>\n",
       "      <td>2.4</td>\n",
       "      <td>2.32</td>\n",
       "    </tr>\n",
       "    <tr>\n",
       "      <th>2017-11-08 23:25:00-06:00</th>\n",
       "      <td>2.2</td>\n",
       "      <td>2.3</td>\n",
       "      <td>2.46</td>\n",
       "    </tr>\n",
       "    <tr>\n",
       "      <th>2017-11-08 23:30:00-06:00</th>\n",
       "      <td>2.2</td>\n",
       "      <td>2.4</td>\n",
       "      <td>2.46</td>\n",
       "    </tr>\n",
       "    <tr>\n",
       "      <th>2017-11-08 23:35:00-06:00</th>\n",
       "      <td>2.3</td>\n",
       "      <td>2.1</td>\n",
       "      <td>2.5</td>\n",
       "    </tr>\n",
       "    <tr>\n",
       "      <th>2017-11-08 23:40:00-06:00</th>\n",
       "      <td>2.2</td>\n",
       "      <td>2.3</td>\n",
       "      <td>2.48</td>\n",
       "    </tr>\n",
       "    <tr>\n",
       "      <th>2017-11-08 23:45:00-06:00</th>\n",
       "      <td>2.2</td>\n",
       "      <td>2.3</td>\n",
       "      <td>2.68</td>\n",
       "    </tr>\n",
       "    <tr>\n",
       "      <th>2017-11-08 23:50:00-06:00</th>\n",
       "      <td>2.2</td>\n",
       "      <td>2.4</td>\n",
       "      <td>2.38</td>\n",
       "    </tr>\n",
       "    <tr>\n",
       "      <th>2017-11-08 23:55:00-06:00</th>\n",
       "      <td>2.3</td>\n",
       "      <td>2.4</td>\n",
       "      <td>2.66</td>\n",
       "    </tr>\n",
       "    <tr>\n",
       "      <th>2017-11-09 00:00:00-06:00</th>\n",
       "      <td>2.2</td>\n",
       "      <td>2.4</td>\n",
       "      <td>3.06</td>\n",
       "    </tr>\n",
       "    <tr>\n",
       "      <th>2017-11-09 00:05:00-06:00</th>\n",
       "      <td>2.3</td>\n",
       "      <td>2.4</td>\n",
       "      <td>2.5</td>\n",
       "    </tr>\n",
       "    <tr>\n",
       "      <th>2017-11-09 00:10:00-06:00</th>\n",
       "      <td>2.2</td>\n",
       "      <td>2.3</td>\n",
       "      <td>2.96</td>\n",
       "    </tr>\n",
       "    <tr>\n",
       "      <th>2017-11-09 00:15:00-06:00</th>\n",
       "      <td>2.3</td>\n",
       "      <td>2.2</td>\n",
       "      <td>2.18</td>\n",
       "    </tr>\n",
       "    <tr>\n",
       "      <th>2017-11-09 00:20:00-06:00</th>\n",
       "      <td>2.3</td>\n",
       "      <td>2.2</td>\n",
       "      <td>2.52</td>\n",
       "    </tr>\n",
       "  </tbody>\n",
       "</table>\n",
       "<p>2237 rows × 3 columns</p>\n",
       "</div>"
      ],
      "text/plain": [
       "                          prior price historical_average_price\n",
       "date                                                          \n",
       "2017-11-01 00:00:00-05:00   2.4   2.4                      1.9\n",
       "2017-11-01 00:05:00-05:00     2     2                     2.04\n",
       "2017-11-01 00:10:00-05:00   2.2   2.2                        2\n",
       "2017-11-01 00:15:00-05:00   2.1   2.1                     1.94\n",
       "2017-11-01 00:20:00-05:00     2     2                     1.98\n",
       "2017-11-01 00:25:00-05:00   2.3   2.3                     2.14\n",
       "2017-11-01 00:30:00-05:00   2.1   2.1                     2.16\n",
       "2017-11-01 00:35:00-05:00   2.1   2.1                     2.14\n",
       "2017-11-01 00:40:00-05:00   2.2   2.2                     2.08\n",
       "2017-11-01 00:45:00-05:00   2.2   2.2                     2.18\n",
       "2017-11-01 00:50:00-05:00   2.2   2.2                     2.12\n",
       "2017-11-01 00:55:00-05:00   2.2   2.2                     2.18\n",
       "2017-11-01 01:00:00-05:00   2.1   2.1                      2.1\n",
       "2017-11-01 01:05:00-05:00   2.2   2.2                      2.1\n",
       "2017-11-01 01:10:00-05:00   2.3   2.3                     2.06\n",
       "2017-11-01 01:15:00-05:00   2.3   2.3                      2.1\n",
       "2017-11-01 01:20:00-05:00   2.1   2.1                     2.12\n",
       "2017-11-01 01:25:00-05:00   2.3   2.3                        2\n",
       "2017-11-01 01:30:00-05:00   2.2   2.2                     2.22\n",
       "2017-11-01 01:35:00-05:00     2     2                     2.18\n",
       "2017-11-01 01:40:00-05:00     2     2                     2.18\n",
       "2017-11-01 01:45:00-05:00     2     2                     2.46\n",
       "2017-11-01 01:50:00-05:00   2.2   2.2                     1.98\n",
       "2017-11-01 01:55:00-05:00   1.9   2.2                     2.82\n",
       "2017-11-01 03:10:00-05:00     2   1.9                      2.5\n",
       "2017-11-01 03:15:00-05:00     2     2                     3.24\n",
       "2017-11-01 03:20:00-05:00   1.9     2                      6.3\n",
       "2017-11-01 03:25:00-05:00     2   1.9                     3.14\n",
       "2017-11-01 03:30:00-05:00   2.3     2                     3.34\n",
       "2017-11-01 03:35:00-05:00   2.3   2.3                      2.5\n",
       "...                         ...   ...                      ...\n",
       "2017-11-08 21:55:00-06:00   2.4     3                     3.16\n",
       "2017-11-08 22:00:00-06:00   2.3     3                     2.94\n",
       "2017-11-08 22:05:00-06:00   2.4   2.4                     2.98\n",
       "2017-11-08 22:10:00-06:00   2.1   2.7                      2.9\n",
       "2017-11-08 22:15:00-06:00   2.3   2.1                      2.9\n",
       "2017-11-08 22:20:00-06:00   2.3   2.1                     2.74\n",
       "2017-11-08 22:25:00-06:00   2.4   2.9                     2.94\n",
       "2017-11-08 22:30:00-06:00   2.4   2.5                     2.92\n",
       "2017-11-08 22:35:00-06:00   2.4   2.4                     2.54\n",
       "2017-11-08 22:40:00-06:00   2.4   2.4                     2.74\n",
       "2017-11-08 22:45:00-06:00   2.3   2.4                     2.76\n",
       "2017-11-08 22:50:00-06:00   2.2   2.4                     2.62\n",
       "2017-11-08 22:55:00-06:00   2.2   2.4                      3.4\n",
       "2017-11-08 23:00:00-06:00   2.1   2.4                     3.54\n",
       "2017-11-08 23:05:00-06:00   2.1   2.6                     2.52\n",
       "2017-11-08 23:10:00-06:00   2.1   2.4                     2.58\n",
       "2017-11-08 23:15:00-06:00   2.2   2.4                     2.52\n",
       "2017-11-08 23:20:00-06:00   2.2   2.4                     2.32\n",
       "2017-11-08 23:25:00-06:00   2.2   2.3                     2.46\n",
       "2017-11-08 23:30:00-06:00   2.2   2.4                     2.46\n",
       "2017-11-08 23:35:00-06:00   2.3   2.1                      2.5\n",
       "2017-11-08 23:40:00-06:00   2.2   2.3                     2.48\n",
       "2017-11-08 23:45:00-06:00   2.2   2.3                     2.68\n",
       "2017-11-08 23:50:00-06:00   2.2   2.4                     2.38\n",
       "2017-11-08 23:55:00-06:00   2.3   2.4                     2.66\n",
       "2017-11-09 00:00:00-06:00   2.2   2.4                     3.06\n",
       "2017-11-09 00:05:00-06:00   2.3   2.4                      2.5\n",
       "2017-11-09 00:10:00-06:00   2.2   2.3                     2.96\n",
       "2017-11-09 00:15:00-06:00   2.3   2.2                     2.18\n",
       "2017-11-09 00:20:00-06:00   2.3   2.2                     2.52\n",
       "\n",
       "[2237 rows x 3 columns]"
      ]
     },
     "execution_count": 14,
     "metadata": {},
     "output_type": "execute_result"
    }
   ],
   "source": [
    "df = df.dropna()\n",
    "df.set_index('date')"
   ]
  },
  {
   "cell_type": "code",
   "execution_count": 15,
   "metadata": {
    "collapsed": false
   },
   "outputs": [
    {
     "data": {
      "text/plain": [
       "0   2017-11-01 00:00:00-05:00\n",
       "1   2017-11-01 00:05:00-05:00\n",
       "2   2017-11-01 00:10:00-05:00\n",
       "3   2017-11-01 00:15:00-05:00\n",
       "4   2017-11-01 00:20:00-05:00\n",
       "Name: date, dtype: datetime64[ns, America/Chicago]"
      ]
     },
     "execution_count": 15,
     "metadata": {},
     "output_type": "execute_result"
    }
   ],
   "source": [
    "df.date = pd.to_datetime(df.date)\n",
    "df.date.head()"
   ]
  },
  {
   "cell_type": "code",
   "execution_count": 16,
   "metadata": {
    "collapsed": false
   },
   "outputs": [
    {
     "data": {
      "text/html": [
       "<div>\n",
       "<table border=\"1\" class=\"dataframe\">\n",
       "  <thead>\n",
       "    <tr style=\"text-align: right;\">\n",
       "      <th></th>\n",
       "      <th>date</th>\n",
       "      <th>prior</th>\n",
       "      <th>price</th>\n",
       "      <th>historical_average_price</th>\n",
       "    </tr>\n",
       "  </thead>\n",
       "  <tbody>\n",
       "    <tr>\n",
       "      <th>0</th>\n",
       "      <td>2017-11-01 00:00:00-05:00</td>\n",
       "      <td>2.4</td>\n",
       "      <td>2.4</td>\n",
       "      <td>1.9</td>\n",
       "    </tr>\n",
       "    <tr>\n",
       "      <th>1</th>\n",
       "      <td>2017-11-01 00:05:00-05:00</td>\n",
       "      <td>2</td>\n",
       "      <td>2</td>\n",
       "      <td>2.04</td>\n",
       "    </tr>\n",
       "    <tr>\n",
       "      <th>2</th>\n",
       "      <td>2017-11-01 00:10:00-05:00</td>\n",
       "      <td>2.2</td>\n",
       "      <td>2.2</td>\n",
       "      <td>2</td>\n",
       "    </tr>\n",
       "    <tr>\n",
       "      <th>3</th>\n",
       "      <td>2017-11-01 00:15:00-05:00</td>\n",
       "      <td>2.1</td>\n",
       "      <td>2.1</td>\n",
       "      <td>1.94</td>\n",
       "    </tr>\n",
       "    <tr>\n",
       "      <th>4</th>\n",
       "      <td>2017-11-01 00:20:00-05:00</td>\n",
       "      <td>2</td>\n",
       "      <td>2</td>\n",
       "      <td>1.98</td>\n",
       "    </tr>\n",
       "  </tbody>\n",
       "</table>\n",
       "</div>"
      ],
      "text/plain": [
       "                       date prior price historical_average_price\n",
       "0 2017-11-01 00:00:00-05:00   2.4   2.4                      1.9\n",
       "1 2017-11-01 00:05:00-05:00     2     2                     2.04\n",
       "2 2017-11-01 00:10:00-05:00   2.2   2.2                        2\n",
       "3 2017-11-01 00:15:00-05:00   2.1   2.1                     1.94\n",
       "4 2017-11-01 00:20:00-05:00     2     2                     1.98"
      ]
     },
     "execution_count": 16,
     "metadata": {},
     "output_type": "execute_result"
    }
   ],
   "source": [
    "df[:5]"
   ]
  },
  {
   "cell_type": "code",
   "execution_count": 17,
   "metadata": {
    "collapsed": false
   },
   "outputs": [
    {
     "name": "stdout",
     "output_type": "stream",
     "text": [
      "(2237, 2237)\n",
      "x:\n",
      "[[ 0.71445359]\n",
      " [ 0.14062958]\n",
      " [ 0.49045139]]\n",
      "dim(y): (2237, 1)\n",
      "dim(Ax): (2237, 1)\n",
      "dim(err): (2237, 1)\n",
      "dim(indices): 2237\n"
     ]
    }
   ],
   "source": [
    "# print(\"y:\\n\"+str(y))\n",
    "# print(\"A:\\n\"+str(A))\n",
    "print(len(y), len(A))\n",
    "A_inv=np.linalg.pinv(A)\n",
    "x=np.dot(A_inv,y)\n",
    "Ax=np.dot(A,x)\n",
    "err=y-Ax\n",
    "print(\"x:\\n\"+str(x))\n",
    "#print(\"err:\\n\"+str(err))\n",
    "print(\"dim(y): \"+str(y.shape))\n",
    "print(\"dim(Ax): \"+str(Ax.shape))\n",
    "print(\"dim(err): \"+str(err.shape))\n",
    "print(\"dim(indices): \"+str(len(indices)))"
   ]
  },
  {
   "cell_type": "code",
   "execution_count": 18,
   "metadata": {
    "collapsed": false
   },
   "outputs": [
    {
     "data": {
      "image/png": "[encoded data removed]",
      "text/plain": [
       "<matplotlib.figure.Figure at 0x10fc3a6d0>"
      ]
     },
     "metadata": {},
     "output_type": "display_data"
    }
   ],
   "source": [
    "plt.hist(err, 100, normed=1, facecolor='green', alpha=0.75)\n",
    "plt.show()"
   ]
  },
  {
   "cell_type": "code",
   "execution_count": 19,
   "metadata": {
    "collapsed": false
   },
   "outputs": [],
   "source": [
    "orig = df"
   ]
  },
  {
   "cell_type": "code",
   "execution_count": 20,
   "metadata": {
    "collapsed": false
   },
   "outputs": [
    {
     "name": "stdout",
     "output_type": "stream",
     "text": [
      "0    2.4\n",
      "1      2\n",
      "2    2.2\n",
      "3    2.1\n",
      "4      2\n",
      "Name: price, dtype: object\n",
      "0   2017-11-01 00:00:00-05:00\n",
      "1   2017-11-01 00:05:00-05:00\n",
      "2   2017-11-01 00:10:00-05:00\n",
      "3   2017-11-01 00:15:00-05:00\n",
      "4   2017-11-01 00:20:00-05:00\n",
      "Name: date, dtype: datetime64[ns, America/Chicago]\n"
     ]
    }
   ],
   "source": [
    "target = df['price']\n",
    "dates = df['date']\n",
    "print(target.head())\n",
    "print(dates.head())"
   ]
  },
  {
   "cell_type": "code",
   "execution_count": 21,
   "metadata": {
    "collapsed": false
   },
   "outputs": [
    {
     "data": {
      "text/plain": [
       "Timestamp('2017-11-01 00:00:00-0500', tz='America/Chicago')"
      ]
     },
     "execution_count": 21,
     "metadata": {},
     "output_type": "execute_result"
    }
   ],
   "source": [
    "dates[0]"
   ]
  },
  {
   "cell_type": "code",
   "execution_count": 22,
   "metadata": {
    "collapsed": false
   },
   "outputs": [],
   "source": [
    "df = df.drop('price', axis=1)"
   ]
  },
  {
   "cell_type": "code",
   "execution_count": 31,
   "metadata": {
    "collapsed": false
   },
   "outputs": [],
   "source": [
    "df = df.drop('date', axis=1)"
   ]
  },
  {
   "cell_type": "code",
   "execution_count": 23,
   "metadata": {
    "collapsed": false
   },
   "outputs": [
    {
     "data": {
      "text/html": [
       "<div>\n",
       "<table border=\"1\" class=\"dataframe\">\n",
       "  <thead>\n",
       "    <tr style=\"text-align: right;\">\n",
       "      <th></th>\n",
       "      <th>date</th>\n",
       "      <th>prior</th>\n",
       "      <th>historical_average_price</th>\n",
       "    </tr>\n",
       "  </thead>\n",
       "  <tbody>\n",
       "    <tr>\n",
       "      <th>0</th>\n",
       "      <td>2017-11-01 00:00:00-05:00</td>\n",
       "      <td>2.4</td>\n",
       "      <td>1.9</td>\n",
       "    </tr>\n",
       "    <tr>\n",
       "      <th>1</th>\n",
       "      <td>2017-11-01 00:05:00-05:00</td>\n",
       "      <td>2</td>\n",
       "      <td>2.04</td>\n",
       "    </tr>\n",
       "    <tr>\n",
       "      <th>2</th>\n",
       "      <td>2017-11-01 00:10:00-05:00</td>\n",
       "      <td>2.2</td>\n",
       "      <td>2</td>\n",
       "    </tr>\n",
       "    <tr>\n",
       "      <th>3</th>\n",
       "      <td>2017-11-01 00:15:00-05:00</td>\n",
       "      <td>2.1</td>\n",
       "      <td>1.94</td>\n",
       "    </tr>\n",
       "    <tr>\n",
       "      <th>4</th>\n",
       "      <td>2017-11-01 00:20:00-05:00</td>\n",
       "      <td>2</td>\n",
       "      <td>1.98</td>\n",
       "    </tr>\n",
       "  </tbody>\n",
       "</table>\n",
       "</div>"
      ],
      "text/plain": [
       "                       date prior historical_average_price\n",
       "0 2017-11-01 00:00:00-05:00   2.4                      1.9\n",
       "1 2017-11-01 00:05:00-05:00     2                     2.04\n",
       "2 2017-11-01 00:10:00-05:00   2.2                        2\n",
       "3 2017-11-01 00:15:00-05:00   2.1                     1.94\n",
       "4 2017-11-01 00:20:00-05:00     2                     1.98"
      ]
     },
     "execution_count": 23,
     "metadata": {},
     "output_type": "execute_result"
    }
   ],
   "source": [
    "df.head()"
   ]
  },
  {
   "cell_type": "code",
   "execution_count": 24,
   "metadata": {
    "collapsed": false
   },
   "outputs": [
    {
     "data": {
      "image/png": "[encoded data removed]",
      "text/plain": [
       "<matplotlib.figure.Figure at 0x109fb0d10>"
      ]
     },
     "metadata": {},
     "output_type": "display_data"
    }
   ],
   "source": [
    "df['prior'].plot(figsize=(15,6), color=\"green\")\n",
    "plt.legend(loc=4)\n",
    "plt.xlabel('Date')\n",
    "plt.ylabel('Prior Price')\n",
    "plt.show()"
   ]
  },
  {
   "cell_type": "code",
   "execution_count": 25,
   "metadata": {
    "collapsed": false
   },
   "outputs": [
    {
     "data": {
      "image/png": "[encoded data removed]",
      "text/plain": [
       "<matplotlib.figure.Figure at 0x110196c90>"
      ]
     },
     "metadata": {},
     "output_type": "display_data"
    }
   ],
   "source": [
    "df['historical_average_price'].plot(figsize=(15,6), color=\"red\")\n",
    "plt.xlabel('Date')\n",
    "plt.ylabel('Historical Average Price')\n",
    "plt.show()"
   ]
  },
  {
   "cell_type": "code",
   "execution_count": 26,
   "metadata": {
    "collapsed": false
   },
   "outputs": [
    {
     "data": {
      "image/png": "[encoded data removed]",
      "text/plain": [
       "<matplotlib.figure.Figure at 0x1101cb190>"
      ]
     },
     "metadata": {},
     "output_type": "display_data"
    }
   ],
   "source": [
    "target.plot(figsize=(15,6), color=\"blue\")\n",
    "plt.xlabel('Date')\n",
    "plt.ylabel('Price')\n",
    "plt.show()"
   ]
  },
  {
   "cell_type": "code",
   "execution_count": 46,
   "metadata": {
    "collapsed": true
   },
   "outputs": [],
   "source": [
    "df_train,df_test,target_train,target_test = cross_validation.train_test_split(df, target, test_size = 0.3)"
   ]
  },
  {
   "cell_type": "code",
   "execution_count": 47,
   "metadata": {
    "collapsed": false
   },
   "outputs": [
    {
     "name": "stdout",
     "output_type": "stream",
     "text": [
      "('length of X_train and x_test: ', 1565, 672)\n"
     ]
    }
   ],
   "source": [
    "print('length of X_train and x_test: ', len(df_train), len(df_test))"
   ]
  },
  {
   "cell_type": "code",
   "execution_count": 48,
   "metadata": {
    "collapsed": true
   },
   "outputs": [],
   "source": [
    "regr = linear_model.LinearRegression()"
   ]
  },
  {
   "cell_type": "code",
   "execution_count": 49,
   "metadata": {
    "collapsed": false
   },
   "outputs": [
    {
     "data": {
      "text/plain": [
       "LinearRegression(copy_X=True, fit_intercept=True, n_jobs=1, normalize=False)"
      ]
     },
     "execution_count": 49,
     "metadata": {},
     "output_type": "execute_result"
    }
   ],
   "source": [
    "regr.fit(df_train, target_train)"
   ]
  },
  {
   "cell_type": "code",
   "execution_count": 50,
   "metadata": {
    "collapsed": false
   },
   "outputs": [
    {
     "name": "stdout",
     "output_type": "stream",
     "text": [
      "('Accuracy of Linear Regression: ', 0.014284544180834802)\n"
     ]
    }
   ],
   "source": [
    "accuracy = regr.score(df_test, target_test)\n",
    "print(\"Accuracy of Linear Regression: \", accuracy)"
   ]
  },
  {
   "cell_type": "code",
   "execution_count": 38,
   "metadata": {
    "collapsed": true
   },
   "outputs": [],
   "source": [
    "# Make predictions using the testing set\n",
    "price_pred = regr.predict(df_test)"
   ]
  },
  {
   "cell_type": "code",
   "execution_count": 52,
   "metadata": {
    "collapsed": false
   },
   "outputs": [
    {
     "data": {
      "text/plain": [
       "(array([ 415.,   24.,    3.,    1.,    4.,    0.,    0.,    0.,    0.,    1.]),\n",
       " array([ 2.72998835,  3.20507451,  3.68016067,  4.15524683,  4.63033299,\n",
       "         5.10541915,  5.5805053 ,  6.05559146,  6.53067762,  7.00576378,\n",
       "         7.48084994]),\n",
       " <a list of 10 Patch objects>)"
      ]
     },
     "execution_count": 52,
     "metadata": {},
     "output_type": "execute_result"
    },
    {
     "data": {
      "image/png": "[encoded data removed]",
      "text/plain": [
       "<matplotlib.figure.Figure at 0x11691a910>"
      ]
     },
     "metadata": {},
     "output_type": "display_data"
    }
   ],
   "source": [
    "plt.hist(price_pred)"
   ]
  },
  {
   "cell_type": "code",
   "execution_count": null,
   "metadata": {
    "collapsed": false
   },
   "outputs": [],
   "source": [
    "# The coefficients\n",
    "print('Coefficients: \\n', regr.coef_)\n",
    "# The mean squared error\n",
    "print(\"Mean squared error: %.2f\" % mean_squared_error(target_test, price_pred))\n",
    "# Explained variance score: 1 is perfect prediction\n",
    "print('Variance score: %.2f' % r2_score(target_test, price_pred))"
   ]
  },
  {
   "cell_type": "code",
   "execution_count": null,
   "metadata": {
    "collapsed": false
   },
   "outputs": [],
   "source": [
    "# Plot outputs\n",
    "plt.scatter(df_test.historical_average_price, target_test,  color='black')\n",
    "plt.plot(df_test.historical_average_price, price_pred, color='blue', linewidth=3)\n",
    "\n",
    "plt.xticks(())\n",
    "plt.yticks(())\n",
    "\n",
    "plt.show()"
   ]
  },
  {
   "cell_type": "code",
   "execution_count": null,
   "metadata": {
    "collapsed": true
   },
   "outputs": [],
   "source": []
  },
  {
   "cell_type": "code",
   "execution_count": null,
   "metadata": {
    "collapsed": true
   },
   "outputs": [],
   "source": [
    "np.savetxt(\"err.csv\", ERR, delimiter=\",\")"
   ]
  },
  {
   "cell_type": "code",
   "execution_count": null,
   "metadata": {
    "collapsed": false
   },
   "outputs": [],
   "source": [
    "from matplotlib.widgets import Slider\n",
    "\n",
    "fig, ax = plt.subplots()\n",
    "plt.subplots_adjust(bottom=0.25)\n",
    "\n",
    "t = np.arange(0.0, 100.0, 0.1)\n",
    "s = np.sin(2*np.pi*t)\n",
    "l, = plt.plot(t,s)\n",
    "plt.axis([0, 10, -1, 1])\n",
    "\n",
    "axcolor = 'lightgoldenrodyellow'\n",
    "axpos = plt.axes([0.2, 0.1, 0.65, 0.03], axisbg=axcolor)\n",
    "\n",
    "spos = Slider(axpos, 'Pos', 0.1, 90.0)\n",
    "\n",
    "def update(val):\n",
    "    pos = spos.val\n",
    "    ax.axis([pos,pos+10,-1,1])\n",
    "    fig.canvas.draw_idle()\n",
    "\n",
    "spos.on_changed(update)\n",
    "\n",
    "plt.show()"
   ]
  },
  {
   "cell_type": "code",
   "execution_count": null,
   "metadata": {
    "collapsed": true
   },
   "outputs": [],
   "source": []
  }
 ],
 "metadata": {
  "anaconda-cloud": {},
  "kernelspec": {
   "display_name": "Python [conda root]",
   "language": "python",
   "name": "conda-root-py"
  },
  "language_info": {
   "codemirror_mode": {
    "name": "ipython",
    "version": 2
   },
   "file_extension": ".py",
   "mimetype": "text/x-python",
   "name": "python",
   "nbconvert_exporter": "python",
   "pygments_lexer": "ipython2",
   "version": "2.7.12"
  }
 },
 "nbformat": 4,
 "nbformat_minor": 2
}
